{
 "cells": [
  {
   "cell_type": "markdown",
   "metadata": {},
   "source": [
    "# Cramer-Rao Lower Bounds"
   ]
  },
  {
   "cell_type": "code",
   "execution_count": 8,
   "metadata": {},
   "outputs": [],
   "source": [
    "from math import *\n",
    "import bokeh\n",
    "import numpy as np\n",
    "import sympy as sp\n",
    "from sympy.physics.quantum.dagger import Dagger\n",
    "sp.init_printing()"
   ]
  },
  {
   "cell_type": "code",
   "execution_count": 9,
   "metadata": {},
   "outputs": [],
   "source": [
    "F, W, phi, psi, t1, t2, omega, w1, w2 = sp.symbols('F W phi psi t1 t2 omega w1 w2', real=True)\n",
    "Lambda = sp.diag(w1,w1,w2,w2)\n",
    "A = sp.ImmutableMatrix(\n",
    "    [\n",
    "     [sp.cos(phi + psi*t1), sp.cos(phi + (psi + omega)*t1)],\n",
    "     [sp.sin(phi + psi*t1), sp.sin(phi + (psi + omega)*t1)],\n",
    "     [sp.cos(phi + psi*t2), sp.cos(phi + (psi + omega)*t2)],\n",
    "     [sp.sin(phi + psi*t2), sp.sin(phi + (psi + omega)*t2)]\n",
    "    ])\n",
    "X = sp.ImmutableMatrix([F,W])"
   ]
  },
  {
   "cell_type": "code",
   "execution_count": 18,
   "metadata": {},
   "outputs": [
    {
     "data": {
      "image/png": "[encoded data removed]",
      "text/latex": [
       "$\\displaystyle \\left( \\left[\\begin{matrix}F\\\\W\\end{matrix}\\right], \\  \\left[\\begin{matrix}w_{1} & 0 & 0 & 0\\\\0 & w_{1} & 0 & 0\\\\0 & 0 & w_{2} & 0\\\\0 & 0 & 0 & w_{2}\\end{matrix}\\right], \\  \\left[\\begin{matrix}\\cos{\\left(\\phi + \\psi t_{1} \\right)} & \\cos{\\left(\\phi + t_{1} \\left(\\omega + \\psi\\right) \\right)}\\\\\\sin{\\left(\\phi + \\psi t_{1} \\right)} & \\sin{\\left(\\phi + t_{1} \\left(\\omega + \\psi\\right) \\right)}\\\\\\cos{\\left(\\phi + \\psi t_{2} \\right)} & \\cos{\\left(\\phi + t_{2} \\left(\\omega + \\psi\\right) \\right)}\\\\\\sin{\\left(\\phi + \\psi t_{2} \\right)} & \\sin{\\left(\\phi + t_{2} \\left(\\omega + \\psi\\right) \\right)}\\end{matrix}\\right]\\right)$"
      ],
      "text/plain": [
       "⎛     ⎡w₁  0   0   0 ⎤  ⎡cos(φ + ψ⋅t₁)  cos(φ + t₁⋅(ω + ψ))⎤⎞\n",
       "⎜     ⎢              ⎥  ⎢                                  ⎥⎟\n",
       "⎜⎡F⎤  ⎢0   w₁  0   0 ⎥  ⎢sin(φ + ψ⋅t₁)  sin(φ + t₁⋅(ω + ψ))⎥⎟\n",
       "⎜⎢ ⎥, ⎢              ⎥, ⎢                                  ⎥⎟\n",
       "⎜⎣W⎦  ⎢0   0   w₂  0 ⎥  ⎢cos(φ + ψ⋅t₂)  cos(φ + t₂⋅(ω + ψ))⎥⎟\n",
       "⎜     ⎢              ⎥  ⎢                                  ⎥⎟\n",
       "⎝     ⎣0   0   0   w₂⎦  ⎣sin(φ + ψ⋅t₂)  sin(φ + t₂⋅(ω + ψ))⎦⎠"
      ]
     },
     "execution_count": 18,
     "metadata": {},
     "output_type": "execute_result"
    }
   ],
   "source": [
    "X, Lambda, A"
   ]
  },
  {
   "cell_type": "markdown",
   "metadata": {},
   "source": [
    "Calculate Fisher Information Matrix from blocks:\n",
    "$$ F = \\left[\n",
    "    \\begin{matrix}\n",
    "    F_1   & F_2 \\\\\n",
    "    F_2^T & F_3 \\\\\n",
    "    \\end{matrix}\n",
    "    \\right] \\in \\mathbb{R}^{4x4}\n",
    "    $$\n",
    "where \n",
    "$$ F_1 = A^T \\Lambda A $$\n",
    "$$ F_2 = \\left[ \\begin{matrix}\n",
    "    A^T \\Lambda^2 \\frac{\\partial A}{\\partial \\phi} X &\n",
    "    A^T \\Lambda^2 \\frac{\\partial A}{\\partial \\psi} X \n",
    "    \\end{matrix} \\right] $$\n",
    "$$ F_3 = \\left[ \\begin{matrix}\n",
    "    X^T \\frac{\\partial A}{\\partial \\phi} \\Lambda^2 \\frac{\\partial A}{\\partial \\phi} X &\n",
    "    X^T \\frac{\\partial A}{\\partial \\phi} \\Lambda^2 \\frac{\\partial A}{\\partial \\psi} X \\\\\n",
    "    X^T \\frac{\\partial A}{\\partial \\psi} \\Lambda^2 \\frac{\\partial A}{\\partial \\phi} X &\n",
    "    X^T \\frac{\\partial A}{\\partial \\psi} \\Lambda^2 \\frac{\\partial A}{\\partial \\psi} X \n",
    "    \\end{matrix} \\right] $$"
   ]
  },
  {
   "cell_type": "code",
   "execution_count": 58,
   "metadata": {},
   "outputs": [
    {
     "data": {
      "image/png": "[encoded data removed]",
      "text/latex": [
       "$\\displaystyle \\left(\\left[\\begin{matrix}F\\\\W\\end{matrix}\\right]\\right)^{T}$"
      ],
      "text/plain": [
       "     T\n",
       "⎛⎡F⎤⎞ \n",
       "⎜⎢ ⎥⎟ \n",
       "⎝⎣W⎦⎠ "
      ]
     },
     "execution_count": 58,
     "metadata": {},
     "output_type": "execute_result"
    }
   ],
   "source": [
    "Ah = Dagger(A)\n",
    "Xt = sp.Transpose(X)\n",
    "F1 = Ah * Lambda * A\n",
    "F2_l3 = Ah * Lambda * Lambda * sp.diff(A,phi) * X\n",
    "F2_l4 = Ah * Lambda * Lambda * sp.diff(A,psi) * X\n",
    "\n",
    "F2 = sp.BlockMatrix([[F2_l3, F2_l4]]).as_explicit()\n",
    "F2t = sp.ImmutableMatrix([[F2[0,0], F2[1,0]],[F2[0,1], F2[1,1]]])\n",
    "F_k3l3 = Xt * sp.diff(Ah,phi) * Lambda * Lambda * sp.diff(A,phi) * X;\n",
    "F_k3l4 = Xt * sp.diff(Ah,phi) * Lambda * Lambda * sp.diff(A,psi) * X;\n",
    "F_k4l3 = Xt * sp.diff(Ah,phi) * Lambda * Lambda * sp.diff(A,phi) * X;\n",
    "F_k4l4 = Xt * sp.diff(Ah,psi) * Lambda * Lambda * sp.diff(A,psi) * X;\n",
    "F3 = sp.BlockMatrix([[F_k3l3, F_k3l4], [F_k4l3, F_k4l4]]).as_explicit()\n",
    "F = sp.BlockMatrix([[F1, F2], [F2t, F3]]).as_explicit()\n",
    "Xt"
   ]
  },
  {
   "cell_type": "code",
   "execution_count": 66,
   "metadata": {},
   "outputs": [],
   "source": [
    "FIM = sp.simplify(F)"
   ]
  },
  {
   "cell_type": "code",
   "execution_count": null,
   "metadata": {},
   "outputs": [],
   "source": [
    "invFim = FIM.inv()\n",
    "invFim"
   ]
  }
 ],
 "metadata": {
  "celltoolbar": "Raw Cell Format",
  "kernelspec": {
   "display_name": "Python 3",
   "language": "python",
   "name": "python3"
  },
  "language_info": {
   "codemirror_mode": {
    "name": "ipython",
    "version": 3
   },
   "file_extension": ".py",
   "mimetype": "text/x-python",
   "name": "python",
   "nbconvert_exporter": "python",
   "pygments_lexer": "ipython3",
   "version": "3.7.3"
  },
  "varInspector": {
   "cols": {
    "lenName": 16,
    "lenType": 16,
    "lenVar": 40
   },
   "kernels_config": {
    "python": {
     "delete_cmd_postfix": "",
     "delete_cmd_prefix": "del ",
     "library": "var_list.py",
     "varRefreshCmd": "print(var_dic_list())"
    },
    "r": {
     "delete_cmd_postfix": ") ",
     "delete_cmd_prefix": "rm(",
     "library": "var_list.r",
     "varRefreshCmd": "cat(var_dic_list()) "
    }
   },
   "oldHeight": 336.5,
   "position": {
    "height": "231.5px",
    "left": "830px",
    "right": "20px",
    "top": "-8px",
    "width": "369px"
   },
   "types_to_exclude": [
    "module",
    "function",
    "builtin_function_or_method",
    "instance",
    "_Feature"
   ],
   "varInspector_section_display": "block",
   "window_display": true
  }
 },
 "nbformat": 4,
 "nbformat_minor": 4
}
